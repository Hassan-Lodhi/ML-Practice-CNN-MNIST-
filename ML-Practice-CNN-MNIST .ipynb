{
 "cells": [
  {
   "cell_type": "code",
   "execution_count": 1,
   "id": "6b368517",
   "metadata": {},
   "outputs": [],
   "source": [
    "import tensorflow as tf\n",
    "from tensorflow.keras import datasets, layers, models\n",
    "import matplotlib.pyplot as plt\n",
    "import numpy as np"
   ]
  },
  {
   "cell_type": "markdown",
   "id": "34ad8908",
   "metadata": {},
   "source": [
    "Loading the dataset of Cifar10"
   ]
  },
  {
   "cell_type": "code",
   "execution_count": 2,
   "id": "36c02c27",
   "metadata": {},
   "outputs": [
    {
     "data": {
      "text/plain": [
       "(50000, 32, 32, 3)"
      ]
     },
     "execution_count": 2,
     "metadata": {},
     "output_type": "execute_result"
    }
   ],
   "source": [
    "\n",
    "(X_train, Y_train), (X_test, Y_test) = datasets.cifar10.load_data()\n",
    "X_train.shape"
   ]
  },
  {
   "cell_type": "code",
   "execution_count": 3,
   "id": "6f94f1b2",
   "metadata": {},
   "outputs": [
    {
     "data": {
      "text/plain": [
       "(10000, 32, 32, 3)"
      ]
     },
     "execution_count": 3,
     "metadata": {},
     "output_type": "execute_result"
    }
   ],
   "source": [
    "X_test.shape"
   ]
  },
  {
   "cell_type": "code",
   "execution_count": 4,
   "id": "905117a2",
   "metadata": {},
   "outputs": [
    {
     "data": {
      "text/plain": [
       "array([[6],\n",
       "       [9],\n",
       "       [9],\n",
       "       [4],\n",
       "       [1]], dtype=uint8)"
      ]
     },
     "execution_count": 4,
     "metadata": {},
     "output_type": "execute_result"
    }
   ],
   "source": [
    "Y_train[:5]"
   ]
  },
  {
   "cell_type": "code",
   "execution_count": 5,
   "id": "f67a190e",
   "metadata": {},
   "outputs": [
    {
     "data": {
      "text/plain": [
       "array([6, 9, 9, 4, 1], dtype=uint8)"
      ]
     },
     "execution_count": 5,
     "metadata": {},
     "output_type": "execute_result"
    }
   ],
   "source": [
    "Y_train = Y_train.reshape(-1,)\n",
    "Y_train[:5]"
   ]
  },
  {
   "cell_type": "code",
   "execution_count": 6,
   "id": "68cf1092",
   "metadata": {},
   "outputs": [],
   "source": [
    "classes = ['Airplane', 'Automobile', 'Bird', 'Cat', 'Dear', 'Dog', 'Frog', 'Horse', 'Ship', 'Truck']"
   ]
  },
  {
   "cell_type": "code",
   "execution_count": 7,
   "id": "5e811da2",
   "metadata": {},
   "outputs": [],
   "source": [
    "def plot_sample(X, Y, index):\n",
    "    plt.figure(figsize = (15,2))\n",
    "    plt.imshow(X_train[index])\n",
    "    plt.xlabel(classes[Y[index]])"
   ]
  },
  {
   "cell_type": "code",
   "execution_count": 8,
   "id": "e42627af",
   "metadata": {},
   "outputs": [
    {
     "data": {
      "image/png": "[encoded data removed]",
      "text/plain": [
       "<Figure size 1500x200 with 1 Axes>"
      ]
     },
     "metadata": {},
     "output_type": "display_data"
    }
   ],
   "source": [
    "plot_sample(X_train, Y_train, 2)"
   ]
  },
  {
   "cell_type": "code",
   "execution_count": 9,
   "id": "89f41000",
   "metadata": {},
   "outputs": [
    {
     "data": {
      "image/png": "[encoded data removed]",
      "text/plain": [
       "<Figure size 1500x200 with 1 Axes>"
      ]
     },
     "metadata": {},
     "output_type": "display_data"
    }
   ],
   "source": [
    "plot_sample(X_train, Y_train, 1)"
   ]
  },
  {
   "cell_type": "markdown",
   "id": "43778ef7",
   "metadata": {},
   "source": [
    "Normalizing the traing Data"
   ]
  },
  {
   "cell_type": "code",
   "execution_count": 10,
   "id": "ecbc6b87",
   "metadata": {},
   "outputs": [],
   "source": [
    "X_train = X_train / 255\n",
    "X_test = X_test / 255"
   ]
  },
  {
   "cell_type": "markdown",
   "id": "62757aa8",
   "metadata": {},
   "source": [
    "Bulding simple artificial Network for image classifications"
   ]
  },
  {
   "cell_type": "code",
   "execution_count": 11,
   "id": "e94b478f",
   "metadata": {},
   "outputs": [
    {
     "name": "stdout",
     "output_type": "stream",
     "text": [
      "Epoch 1/5\n",
      "1563/1563 [==============================] - 99s 63ms/step - loss: 1.8137 - accuracy: 0.3535\n",
      "Epoch 2/5\n",
      "1563/1563 [==============================] - 95s 61ms/step - loss: 1.6243 - accuracy: 0.4283\n",
      "Epoch 3/5\n",
      "1563/1563 [==============================] - 95s 61ms/step - loss: 1.5436 - accuracy: 0.4549\n",
      "Epoch 4/5\n",
      "1563/1563 [==============================] - 95s 61ms/step - loss: 1.4835 - accuracy: 0.4768\n",
      "Epoch 5/5\n",
      "1563/1563 [==============================] - 95s 61ms/step - loss: 1.4323 - accuracy: 0.4952\n"
     ]
    },
    {
     "data": {
      "text/plain": [
       "<keras.callbacks.History at 0x1d14134feb0>"
      ]
     },
     "execution_count": 11,
     "metadata": {},
     "output_type": "execute_result"
    }
   ],
   "source": [
    "ann = models.Sequential([\n",
    "        layers.Flatten(input_shape=(32,32,3)),\n",
    "        layers.Dense(3000, activation='relu'),\n",
    "        layers.Dense(1000, activation='relu'),\n",
    "        layers.Dense(10, activation='softmax')    \n",
    "    ])\n",
    "\n",
    "ann.compile(optimizer='SGD',\n",
    "              loss='sparse_categorical_crossentropy',\n",
    "              metrics=['accuracy'])\n",
    "\n",
    "ann.fit(X_train, Y_train, epochs=5)"
   ]
  },
  {
   "cell_type": "markdown",
   "id": "c1f4bcbf",
   "metadata": {},
   "source": [
    "Using 5 epochs  see that at the end , so the accuracy is at around 49%"
   ]
  },
  {
   "cell_type": "code",
   "execution_count": 13,
   "id": "a8777f67",
   "metadata": {},
   "outputs": [
    {
     "name": "stdout",
     "output_type": "stream",
     "text": [
      "313/313 [==============================] - 4s 11ms/step\n",
      "Classification Report: \n",
      "               precision    recall  f1-score   support\n",
      "\n",
      "           0       0.66      0.26      0.37      1000\n",
      "           1       0.77      0.36      0.49      1000\n",
      "           2       0.26      0.51      0.35      1000\n",
      "           3       0.38      0.17      0.24      1000\n",
      "           4       0.32      0.46      0.37      1000\n",
      "           5       0.31      0.48      0.38      1000\n",
      "           6       0.48      0.57      0.52      1000\n",
      "           7       0.48      0.55      0.51      1000\n",
      "           8       0.72      0.42      0.53      1000\n",
      "           9       0.60      0.47      0.53      1000\n",
      "\n",
      "    accuracy                           0.43     10000\n",
      "   macro avg       0.50      0.43      0.43     10000\n",
      "weighted avg       0.50      0.43      0.43     10000\n",
      "\n"
     ]
    }
   ],
   "source": [
    "from sklearn.metrics import confusion_matrix , classification_report\n",
    "import numpy as np\n",
    "Y_pred = ann.predict(X_test)\n",
    "Y_pred_classes = [np.argmax(element) for element in Y_pred]\n",
    "\n",
    "print(\"Classification Report: \\n\", classification_report(Y_test, Y_pred_classes))"
   ]
  },
  {
   "cell_type": "markdown",
   "id": "581c9920",
   "metadata": {},
   "source": [
    " Now lets build a convolutional neural network to train our images"
   ]
  },
  {
   "cell_type": "code",
   "execution_count": 14,
   "id": "639e527f",
   "metadata": {},
   "outputs": [],
   "source": [
    "cnn = models.Sequential([\n",
    "    layers.Conv2D(filters=32, kernel_size=(3, 3), activation='relu', input_shape=(32, 32, 3)),\n",
    "    layers.MaxPooling2D((2, 2)),\n",
    "    \n",
    "    layers.Conv2D(filters=64, kernel_size=(3, 3), activation='relu'),\n",
    "    layers.MaxPooling2D((2, 2)),\n",
    "    \n",
    "    layers.Flatten(),\n",
    "    layers.Dense(64, activation='relu'),\n",
    "    layers.Dense(10, activation='softmax')\n",
    "])"
   ]
  },
  {
   "cell_type": "code",
   "execution_count": 15,
   "id": "a43710d7",
   "metadata": {},
   "outputs": [],
   "source": [
    "cnn.compile(optimizer='adam',\n",
    "              loss='sparse_categorical_crossentropy',\n",
    "              metrics=['accuracy'])"
   ]
  },
  {
   "cell_type": "code",
   "execution_count": 16,
   "id": "73daaecc",
   "metadata": {},
   "outputs": [
    {
     "name": "stdout",
     "output_type": "stream",
     "text": [
      "Epoch 1/10\n",
      "1563/1563 [==============================] - 39s 24ms/step - loss: 1.4675 - accuracy: 0.4738\n",
      "Epoch 2/10\n",
      "1563/1563 [==============================] - 40s 25ms/step - loss: 1.1043 - accuracy: 0.6136\n",
      "Epoch 3/10\n",
      "1563/1563 [==============================] - 39s 25ms/step - loss: 0.9717 - accuracy: 0.6624\n",
      "Epoch 4/10\n",
      "1563/1563 [==============================] - 31s 20ms/step - loss: 0.8796 - accuracy: 0.6959\n",
      "Epoch 5/10\n",
      "1563/1563 [==============================] - 34s 22ms/step - loss: 0.8108 - accuracy: 0.7185\n",
      "Epoch 6/10\n",
      "1563/1563 [==============================] - 35s 22ms/step - loss: 0.7541 - accuracy: 0.7382\n",
      "Epoch 7/10\n",
      "1563/1563 [==============================] - 32s 20ms/step - loss: 0.7050 - accuracy: 0.7557\n",
      "Epoch 8/10\n",
      "1563/1563 [==============================] - 38s 24ms/step - loss: 0.6639 - accuracy: 0.7675\n",
      "Epoch 9/10\n",
      "1563/1563 [==============================] - 31s 20ms/step - loss: 0.6238 - accuracy: 0.7825\n",
      "Epoch 10/10\n",
      "1563/1563 [==============================] - 30s 19ms/step - loss: 0.5882 - accuracy: 0.7926\n"
     ]
    },
    {
     "data": {
      "text/plain": [
       "<keras.callbacks.History at 0x1d144175b50>"
      ]
     },
     "execution_count": 16,
     "metadata": {},
     "output_type": "execute_result"
    }
   ],
   "source": [
    "cnn.fit(X_train, Y_train, epochs=10)"
   ]
  },
  {
   "cell_type": "markdown",
   "id": "0588abb8",
   "metadata": {},
   "source": [
    "With CNN, at the end 5 epochs, accuracy was at around 70% which is a significant improvement over ANN. CNN's are best for image classification and gives superb accuracy. Also computation is much less compared to simple ANN as maxpooling reduces the image dimensions while still preserving the features"
   ]
  },
  {
   "cell_type": "code",
   "execution_count": 17,
   "id": "2414cfcf",
   "metadata": {},
   "outputs": [
    {
     "name": "stdout",
     "output_type": "stream",
     "text": [
      "313/313 [==============================] - 2s 6ms/step - loss: 0.9105 - accuracy: 0.7015\n"
     ]
    },
    {
     "data": {
      "text/plain": [
       "[0.910544753074646, 0.7014999985694885]"
      ]
     },
     "execution_count": 17,
     "metadata": {},
     "output_type": "execute_result"
    }
   ],
   "source": [
    "cnn.evaluate(X_test,Y_test)"
   ]
  },
  {
   "cell_type": "code",
   "execution_count": 36,
   "id": "9b0fb743",
   "metadata": {},
   "outputs": [
    {
     "name": "stdout",
     "output_type": "stream",
     "text": [
      "313/313 [==============================] - 2s 5ms/step\n"
     ]
    },
    {
     "data": {
      "text/plain": [
       "array([[8.95137084e-04, 1.15029223e-03, 2.96113361e-03, 8.20692301e-01,\n",
       "        1.96212932e-04, 1.64061844e-01, 3.88365821e-04, 7.22952012e-04,\n",
       "        8.83041136e-03, 1.01221034e-04],\n",
       "       [2.67398939e-03, 7.45440200e-02, 7.18340459e-07, 7.81239784e-09,\n",
       "        4.00056379e-08, 2.12005147e-09, 6.06229520e-08, 2.85408586e-10,\n",
       "        9.22708929e-01, 7.22160912e-05],\n",
       "       [1.67207032e-01, 2.78548449e-02, 4.18967335e-03, 2.42082751e-03,\n",
       "        4.85881092e-03, 3.96210555e-04, 2.77748215e-04, 9.37425240e-04,\n",
       "        7.63133824e-01, 2.87236478e-02],\n",
       "       [9.43143845e-01, 5.49925817e-03, 3.69024579e-03, 2.24943782e-04,\n",
       "        9.00912005e-03, 5.20770709e-06, 6.11956202e-05, 1.26683983e-04,\n",
       "        3.82150784e-02, 2.44309140e-05],\n",
       "       [2.01018229e-05, 9.33107003e-06, 7.46065751e-03, 6.28711581e-02,\n",
       "        6.81774974e-01, 4.90111951e-03, 2.42865577e-01, 5.26820731e-05,\n",
       "        3.19900028e-05, 1.24964890e-05]], dtype=float32)"
      ]
     },
     "execution_count": 36,
     "metadata": {},
     "output_type": "execute_result"
    }
   ],
   "source": [
    "y_pred = cnn.predict(X_test)\n",
    "y_pred[:5]"
   ]
  },
  {
   "cell_type": "code",
   "execution_count": 37,
   "id": "70881c8f",
   "metadata": {},
   "outputs": [
    {
     "data": {
      "text/plain": [
       "[3, 8, 8, 0, 4]"
      ]
     },
     "execution_count": 37,
     "metadata": {},
     "output_type": "execute_result"
    }
   ],
   "source": [
    "Y_classes = [np.argmax(element) for element in y_pred]\n",
    "Y_classes[:5]"
   ]
  },
  {
   "cell_type": "code",
   "execution_count": 38,
   "id": "a3a72ced",
   "metadata": {},
   "outputs": [
    {
     "data": {
      "text/plain": [
       "array([3, 8, 8, 0, 6], dtype=uint8)"
      ]
     },
     "execution_count": 38,
     "metadata": {},
     "output_type": "execute_result"
    }
   ],
   "source": [
    "\n",
    "Y_test[:5]"
   ]
  },
  {
   "cell_type": "code",
   "execution_count": 48,
   "id": "cedef40b",
   "metadata": {},
   "outputs": [
    {
     "data": {
      "image/png": "[encoded data removed]",
      "text/plain": [
       "<Figure size 1500x200 with 1 Axes>"
      ]
     },
     "metadata": {},
     "output_type": "display_data"
    }
   ],
   "source": [
    "plot_sample(X_test, Y_test,9)"
   ]
  },
  {
   "cell_type": "code",
   "execution_count": 49,
   "id": "92ca92d4",
   "metadata": {},
   "outputs": [
    {
     "data": {
      "text/plain": [
       "'Automobile'"
      ]
     },
     "execution_count": 49,
     "metadata": {},
     "output_type": "execute_result"
    }
   ],
   "source": [
    "classes[Y_classes[9]]"
   ]
  },
  {
   "cell_type": "code",
   "execution_count": null,
   "id": "fb95c79b",
   "metadata": {},
   "outputs": [],
   "source": []
  },
  {
   "cell_type": "code",
   "execution_count": null,
   "id": "065092d0",
   "metadata": {},
   "outputs": [],
   "source": []
  }
 ],
 "metadata": {
  "kernelspec": {
   "display_name": "Python 3 (ipykernel)",
   "language": "python",
   "name": "python3"
  },
  "language_info": {
   "codemirror_mode": {
    "name": "ipython",
    "version": 3
   },
   "file_extension": ".py",
   "mimetype": "text/x-python",
   "name": "python",
   "nbconvert_exporter": "python",
   "pygments_lexer": "ipython3",
   "version": "3.9.13"
  }
 },
 "nbformat": 4,
 "nbformat_minor": 5
}
